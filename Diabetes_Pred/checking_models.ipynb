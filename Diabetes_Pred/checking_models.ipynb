{
 "cells": [
  {
   "cell_type": "code",
   "execution_count": 1,
   "id": "eead62d8",
   "metadata": {},
   "outputs": [],
   "source": [
    "import joblib\n",
    "\n",
    "final_logistic_model = joblib.load(\"logistic_reg.pkl\")"
   ]
  },
  {
   "cell_type": "code",
   "execution_count": 29,
   "id": "2619501f",
   "metadata": {},
   "outputs": [
    {
     "name": "stdout",
     "output_type": "stream",
     "text": [
      "[0.]\n",
      "0\n",
      "The Patient is Not-Diabetic\n"
     ]
    }
   ],
   "source": [
    "a = final_logistic_model.predict([[0.50, 0, 0, 0, 0, 0, 0, 0, 0, 1, 0,1,1,1,0,1]])\n",
    "print(a)\n",
    "result = int(a)\n",
    "print(result)\n",
    "\n",
    "if result==1:\n",
    "    print(\"The Patient is Diabetic\")\n",
    "else:\n",
    "    print(\"The Patient is Not-Diabetic\")"
   ]
  },
  {
   "cell_type": "code",
   "execution_count": null,
   "id": "1a057531",
   "metadata": {},
   "outputs": [],
   "source": []
  }
 ],
 "metadata": {
  "kernelspec": {
   "display_name": "Python 3",
   "language": "python",
   "name": "python3"
  },
  "language_info": {
   "codemirror_mode": {
    "name": "ipython",
    "version": 3
   },
   "file_extension": ".py",
   "mimetype": "text/x-python",
   "name": "python",
   "nbconvert_exporter": "python",
   "pygments_lexer": "ipython3",
   "version": "3.9.7"
  }
 },
 "nbformat": 4,
 "nbformat_minor": 5
}
